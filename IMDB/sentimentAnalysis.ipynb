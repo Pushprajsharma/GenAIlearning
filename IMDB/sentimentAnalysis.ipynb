{
 "cells": [
  {
   "cell_type": "code",
   "execution_count": null,
   "metadata": {},
   "outputs": [],
   "source": [
    "import json\n",
    "import io\n",
    "import pandas as pd\n",
    "from textblob import TextBlob\n",
    "import matplotlib.pyplot as plt\n",
    "import re\n",
    "from bs4 import BeautifulSoup\n",
    "import seaborn as sns\n",
    "from sklearn.model_selection import train_test_split\n",
    "from sklearn.feature_extraction.text import CountVectorizer\n",
    "from sklearn.linear_model import LogisticRegression\n",
    "from sklearn.metrics import accuracy_score\n",
    "import certifi\n",
    "from transformers import BertTokenizer\n"
   ]
  },
  {
   "cell_type": "code",
   "execution_count": null,
   "metadata": {},
   "outputs": [],
   "source": [
    "def readDataFromJsonFile():\n",
    "    try:\n",
    "        with io.open('data.json', 'r', encoding='utf-8') as json_file:\n",
    "            data = json.load(json_file)\n",
    "            return data\n",
    "    except json.decoder.JSONDecodeError as e:\n",
    "        print(f\"Error reading JSON file: {e}\")\n"
   ]
  },
  {
   "cell_type": "code",
   "execution_count": null,
   "metadata": {},
   "outputs": [
    {
     "name": "stdout",
     "output_type": "stream",
     "text": [
      "                  Movie Name                                        Genres  \\\n",
      "0   The Shawshank Redemption       Epic, Period Drama, Prison Drama, Drama   \n",
      "0   The Shawshank Redemption       Epic, Period Drama, Prison Drama, Drama   \n",
      "0   The Shawshank Redemption       Epic, Period Drama, Prison Drama, Drama   \n",
      "0   The Shawshank Redemption       Epic, Period Drama, Prison Drama, Drama   \n",
      "0   The Shawshank Redemption       Epic, Period Drama, Prison Drama, Drama   \n",
      "..                       ...                                           ...   \n",
      "24               City of God  Caper, Coming-of-Age, Gangster, Crime, Drama   \n",
      "24               City of God  Caper, Coming-of-Age, Gangster, Crime, Drama   \n",
      "24               City of God  Caper, Coming-of-Age, Gangster, Crime, Drama   \n",
      "24               City of God  Caper, Coming-of-Age, Gangster, Crime, Drama   \n",
      "24               City of God  Caper, Coming-of-Age, Gangster, Crime, Drama   \n",
      "\n",
      "      Other                                            Reviews  \n",
      "0   1994, A  It is no wonder that the film has such a high ...  \n",
      "0   1994, A  I'm trying to save you money; this is the last...  \n",
      "0   1994, A  This movie is not your ordinary Hollywood flic...  \n",
      "0   1994, A  I have never seen such an amazing film since I...  \n",
      "0   1994, A  The best movie in history and the best ending ...  \n",
      "..      ...                                                ...  \n",
      "24  2002, A  The story begins in the present days, in a bar...  \n",
      "24  2002, A  Incredible film. Not much to say, yet I could ...  \n",
      "24  2002, A  Wow, what a great movie! I'd heard plenty abou...  \n",
      "24  2002, A  This movie is absolutely amazing! It is a cine...  \n",
      "24  2002, A  I finally got around to watching this much pra...  \n",
      "\n",
      "[448 rows x 4 columns]\n"
     ]
    }
   ],
   "source": [
    "rawData = readDataFromJsonFile()\n",
    "\n",
    "details_list = []\n",
    "for key, value in rawData.items():\n",
    "    details = value[\"details\"]\n",
    "    reviews = value[\"reviews\"]\n",
    "    details_list.append({\n",
    "            \"Movie Name\": details[\"movie_Name\"],\n",
    "            \"Genres\": \", \".join(details[\"genre\"]),\n",
    "            \"Other\": \", \".join(details[\"other\"]),\n",
    "            \"Reviews\": reviews\n",
    "    })\n",
    "\n",
    "df = pd.DataFrame(details_list)\n",
    "df = df.explode('Reviews')\n",
    "print(df)\n"
   ]
  },
  {
   "cell_type": "code",
   "execution_count": 44,
   "metadata": {},
   "outputs": [
    {
     "name": "stdout",
     "output_type": "stream",
     "text": [
      "                 Movie Name                                   Genres    Other  \\\n",
      "0  The Shawshank Redemption  Epic, Period Drama, Prison Drama, Drama  1994, A   \n",
      "0  The Shawshank Redemption  Epic, Period Drama, Prison Drama, Drama  1994, A   \n",
      "0  The Shawshank Redemption  Epic, Period Drama, Prison Drama, Drama  1994, A   \n",
      "0  The Shawshank Redemption  Epic, Period Drama, Prison Drama, Drama  1994, A   \n",
      "0  The Shawshank Redemption  Epic, Period Drama, Prison Drama, Drama  1994, A   \n",
      "\n",
      "                                             Reviews  \\\n",
      "0  It is no wonder that the film has such a high ...   \n",
      "0  I'm trying to save you money; this is the last...   \n",
      "0  This movie is not your ordinary Hollywood flic...   \n",
      "0  I have never seen such an amazing film since I...   \n",
      "0  The best movie in history and the best ending ...   \n",
      "\n",
      "                                      Cleaned_Review  \n",
      "0  it is no wonder that the film has such a high ...  \n",
      "0  i m trying to save you money this is the last ...  \n",
      "0  this movie is not your ordinary hollywood flic...  \n",
      "0  i have never seen such an amazing film since i...  \n",
      "0  the best movie in history and the best ending ...  \n"
     ]
    }
   ],
   "source": [
    "def clean_text(text):\n",
    "    soup = BeautifulSoup(text, 'html.parser')\n",
    "    text = soup.get_text()\n",
    "    text = re.sub(r'\\W+', ' ', text.lower())\n",
    "    return text\n",
    "\n",
    "df['Cleaned_Review'] = df['Reviews'].apply(clean_text)\n",
    "print(df.head())\n"
   ]
  },
  {
   "cell_type": "code",
   "execution_count": null,
   "metadata": {},
   "outputs": [],
   "source": [
    "def analyze_sentiment(text):\n",
    "    analysis = TextBlob(text)\n",
    "    return analysis.sentiment.polarity\n",
    "\n",
    "df['Sentiment'] = df['Cleaned_Review'].apply(analyze_sentiment)\n",
    "print(df.head())\n"
   ]
  },
  {
   "cell_type": "code",
   "execution_count": 46,
   "metadata": {},
   "outputs": [],
   "source": [
    "def get_sentiment_label(score):\n",
    "    if score > 0:\n",
    "        return 'positive'\n",
    "    elif score < 0:\n",
    "        return 'negative'\n",
    "    else:\n",
    "        return 'neutral'\n",
    "\n",
    "df['Sentiment_Label'] = df['Sentiment'].apply(get_sentiment_label)\n"
   ]
  },
  {
   "cell_type": "code",
   "execution_count": null,
   "metadata": {},
   "outputs": [],
   "source": [
    "# Visualize sentiment distribution\n",
    "sns.countplot(df['Sentiment_Label'])\n",
    "plt.title(\"Sentiment Distribution\")\n",
    "plt.show()\n"
   ]
  },
  {
   "cell_type": "code",
   "execution_count": null,
   "metadata": {},
   "outputs": [],
   "source": [
    "# Analyze patterns based on genres\n",
    "genre_counts = df['Genres'].explode().value_counts()\n",
    "genre_counts.plot(kind='bar')\n",
    "plt.title(\"Genre Distribution\")\n",
    "plt.show()\n"
   ]
  },
  {
   "cell_type": "code",
   "execution_count": null,
   "metadata": {},
   "outputs": [],
   "source": [
    "# Analyze patterns based on release year\n",
    "df[['Release_Year', 'Age_Restriction']] = df['Other'].str.split(',', expand=True)\n",
    "release_year_counts = df['Release_Year'].value_counts().sort_index()\n",
    "release_year_counts.plot(kind='bar')\n",
    "plt.title(\"Release Year Distribution\")\n",
    "plt.show()\n"
   ]
  },
  {
   "cell_type": "code",
   "execution_count": null,
   "metadata": {},
   "outputs": [],
   "source": [
    "# Analyze patterns based on age restriction\n",
    "age_restriction_counts = df['Age_Restriction'].value_counts()\n",
    "age_restriction_counts.plot(kind='bar')\n",
    "plt.title(\"Age Restriction Distribution\")\n",
    "plt.show()\n"
   ]
  },
  {
   "cell_type": "code",
   "execution_count": null,
   "metadata": {},
   "outputs": [],
   "source": [
    "# Sentiment classification using Logistic Regression\n",
    "X_train, X_test, y_train, y_test = train_test_split(df['Cleaned_Review'], df['Sentiment_Label'], test_size=0.1, random_state=100)\n",
    "vectorizer = CountVectorizer()\n",
    "X_train = vectorizer.fit_transform(X_train)\n",
    "X_test = vectorizer.transform(X_test)\n",
    "model = LogisticRegression()\n",
    "model.fit(X_train, y_train)\n",
    "predictions = model.predict(X_test)\n",
    "print(predictions)\n",
    "print(f'Accuracy: {accuracy_score(y_test, predictions)}')\n"
   ]
  },
  {
   "cell_type": "code",
   "execution_count": 1,
   "metadata": {},
   "outputs": [
    {
     "ename": "NameError",
     "evalue": "name 'SMOTE' is not defined",
     "output_type": "error",
     "traceback": [
      "\u001b[1;31m---------------------------------------------------------------------------\u001b[0m",
      "\u001b[1;31mNameError\u001b[0m                                 Traceback (most recent call last)",
      "Cell \u001b[1;32mIn[1], line 2\u001b[0m\n\u001b[0;32m      1\u001b[0m \u001b[38;5;66;03m# Create an instance of SMOTE with the desired parameters\u001b[39;00m\n\u001b[1;32m----> 2\u001b[0m smote \u001b[38;5;241m=\u001b[39m \u001b[43mSMOTE\u001b[49m(k_neighbors\u001b[38;5;241m=\u001b[39m\u001b[38;5;241m2\u001b[39m) \u001b[38;5;66;03m#This means that for each minority class sample, SMOTE will find its 2 nearest neighbors. It will then create synthetic samples\u001b[39;00m\n\u001b[0;32m      4\u001b[0m \u001b[38;5;66;03m# Pass the SMOTE instance to the smote parameter of SMOTEENN\u001b[39;00m\n\u001b[0;32m      5\u001b[0m smote_enn \u001b[38;5;241m=\u001b[39m SMOTEENN(smote\u001b[38;5;241m=\u001b[39msmote)\n",
      "\u001b[1;31mNameError\u001b[0m: name 'SMOTE' is not defined"
     ]
    }
   ],
   "source": [
    "# Create an instance of SMOTE with the desired parameters\n",
    "smote = SMOTE(k_neighbors=2) #This means that for each minority class sample, SMOTE will find its 2 nearest neighbors. It will then create synthetic samples\n",
    " \n",
    "# Pass the SMOTE instance to the smote parameter of SMOTEENN\n",
    "smote_enn = SMOTEENN(smote=smote)"
   ]
  },
  {
   "cell_type": "code",
   "execution_count": null,
   "metadata": {},
   "outputs": [],
   "source": [
    "def preprocess_custom_input(text):\n",
    "    # Clean the text\n",
    "    soup = BeautifulSoup(text, 'html.parser')\n",
    "    cleaned_text = soup.get_text()\n",
    "    cleaned_text = re.sub(r'\\W+', ' ', cleaned_text.lower())\n",
    "\n",
    "    tokens = cleaned_text.split()\n",
    "    cleaned_text = ' '.join(tokens)\n",
    "\n",
    "    return cleaned_text\n",
    "\n",
    "def predict_sentiment(custom_text):\n",
    "    # Preprocess the custom input\n",
    "    cleaned_text = preprocess_custom_input(custom_text)\n",
    "\n",
    "    # Vectorize the input text\n",
    "    input_vector = vectorizer.transform([cleaned_text])\n",
    "    # Predict the sentiment\n",
    "    prediction = model.predict(input_vector)\n",
    "\n",
    "    # Return the predicted sentiment\n",
    "    return prediction[0]\n",
    "\n",
    "# Example usage\n",
    "custom_review = \"Movie is not good, very bad movie, waste of time\"\n",
    "predicted_sentiment = predict_sentiment(custom_review)\n",
    "print(f'The predicted sentiment is: {predicted_sentiment}')\n"
   ]
  },
  {
   "cell_type": "code",
   "execution_count": null,
   "metadata": {},
   "outputs": [],
   "source": []
  }
 ],
 "metadata": {
  "kernelspec": {
   "display_name": "Python 3",
   "language": "python",
   "name": "python3"
  },
  "language_info": {
   "codemirror_mode": {
    "name": "ipython",
    "version": 3
   },
   "file_extension": ".py",
   "mimetype": "text/x-python",
   "name": "python",
   "nbconvert_exporter": "python",
   "pygments_lexer": "ipython3",
   "version": "3.10.4"
  }
 },
 "nbformat": 4,
 "nbformat_minor": 2
}
